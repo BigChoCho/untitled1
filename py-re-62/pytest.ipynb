{
 "cells": [
  {
   "cell_type": "code",
   "execution_count": 1,
   "metadata": {},
   "outputs": [
    {
     "name": "stdout",
     "output_type": "stream",
     "text": [
      "輸入驗證碼2886\n"
     ]
    }
   ],
   "source": [
    "#861登入方式,手動輸入驗證法\n",
    "\n",
    "from selenium import webdriver\n",
    "from selenium.webdriver.common.keys import  Keys\n",
    "import time\n",
    "\n",
    "url = \"http://www.kt861.com.tw/member.php\"\n",
    "\n",
    "driver = webdriver.Chrome(r'C:\\Users\\a3858\\PycharmProjects\\untitled1\\chromedriver.exe')\n",
    "driver.get(url)\n",
    "#有時候可能因為時間加載問題導致找度到元素\n",
    "time.sleep(5)\n",
    "code = input(\"輸入驗證碼\")\n",
    "#切換密碼頁\n",
    "time.sleep(5)\n",
    "driver.find_element_by_name(\"mm_account\").send_keys(\"0921340917\")\n",
    "driver.find_element_by_name(\"mm_password\").send_keys(\"menpizzerpower\")\n",
    "driver.find_element_by_xpath(\"//input[@class='ipt2 iptbox']\").send_keys(code)\n",
    "time.sleep(3)\n",
    "driver.find_element_by_xpath(\"//input[@class='shop_btn']\").click()\n",
    "time.sleep(10)\n",
    "\n",
    "\n",
    "\n",
    "\n",
    "driver.quit()\n"
   ]
  },
  {
   "cell_type": "code",
   "execution_count": null,
   "metadata": {},
   "outputs": [],
   "source": []
  }
 ],
 "metadata": {
  "kernelspec": {
   "display_name": "Python 3",
   "language": "python",
   "name": "python3"
  },
  "language_info": {
   "codemirror_mode": {
    "name": "ipython",
    "version": 3
   },
   "file_extension": ".py",
   "mimetype": "text/x-python",
   "name": "python",
   "nbconvert_exporter": "python",
   "pygments_lexer": "ipython3",
   "version": "3.6.5"
  }
 },
 "nbformat": 4,
 "nbformat_minor": 2
}
